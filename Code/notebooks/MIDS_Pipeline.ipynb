{
 "cells": [
  {
   "cell_type": "code",
   "execution_count": 1,
   "id": "e71debfc",
   "metadata": {},
   "outputs": [],
   "source": [
    "# python common\n",
    "import os\n",
    "# python universe\n",
    "import numpy as np\n",
    "import matplotlib.pyplot as plt\n",
    "# nn\n",
    "import torch\n",
    "import torch.nn as nn"
   ]
  },
  {
   "cell_type": "code",
   "execution_count": 41,
   "id": "5665ccf3",
   "metadata": {},
   "outputs": [],
   "source": [
    "# util dashboard imports\n",
    "import csv\n",
    "import soundfile as sf"
   ]
  },
  {
   "cell_type": "code",
   "execution_count": 2,
   "id": "f7ba14d3",
   "metadata": {},
   "outputs": [],
   "source": [
    "import logging\n",
    "logger = logging.getLogger()\n",
    "logger.setLevel(logging.DEBUG)"
   ]
  },
  {
   "cell_type": "code",
   "execution_count": 3,
   "id": "44007452",
   "metadata": {},
   "outputs": [],
   "source": [
    "import sys\n",
    "sys.path.append(\"../lib/\")\n",
    "\n",
    "from mids_pytorch_model import Model, get_wav_for_path_pipeline\n",
    "\n",
    "from util import active_BALD, detect_timestamps_BNN"
   ]
  },
  {
   "cell_type": "code",
   "execution_count": 19,
   "id": "ec7d990e",
   "metadata": {},
   "outputs": [],
   "source": [
    "# tasks\n",
    "def _get_wav_for_path_pipeline(path, sr=8000):\n",
    "    return get_wav_for_path_pipeline(path, sr)\n",
    "\n",
    "def _predict_on_frames(signal, model, device, step_size, n_hop, batch_size):\n",
    "    # padding is the difference between the win size and step size\n",
    "    # The first window is silence prepended to the step size to fill the WindowsError\n",
    "    # then the window slides by the step amount until the last frame is the step followed by\n",
    "    # silence to fill the window\n",
    "    pad_amt = (win_size - step_size) * n_hop\n",
    "    pad_l = torch.zeros(1, pad_amt) + (0.1**0.5) * torch.randn(1, pad_amt)\n",
    "    pad_r = torch.zeros(1, pad_amt) + (0.1**0.5) * torch.randn(1, pad_amt)\n",
    "    padded_stepped_signal = torch.cat([pad_l, signal, pad_r], dim=1).unfold(\n",
    "        1, win_size * n_hop, step_size * n_hop).transpose(0, 1).to(device)  # b, 1, s\n",
    "\n",
    "    softmax = nn.Softmax(dim=1)\n",
    "\n",
    "    prediction_list = []\n",
    "    spectrogram_list = []\n",
    "    with torch.no_grad():\n",
    "        for batch_signals in torch.split(padded_stepped_signal, batch_size, 0):\n",
    "            predictions = model(batch_signals)\n",
    "            predction_probabilities = softmax(\n",
    "                predictions['prediction']).cpu().detach()\n",
    "            prediction_list.append(predction_probabilities)\n",
    "            spectrogram_list.append(\n",
    "                predictions['spectrogram'].cpu().detach().numpy())\n",
    "\n",
    "    prediction_tensor = torch.cat(prediction_list)\n",
    "\n",
    "    # align the predictions according to the sliding window so that\n",
    "    # each step has all of it's prediciton windows stacked\n",
    "    stacked_predictions = []\n",
    "    prediction_length = signal.unfold(\n",
    "        1, win_size * n_hop, step_size * n_hop).shape[1]\n",
    "    for i in range(win_size // step_size):\n",
    "        stacked_predictions.append(prediction_tensor[i:i + prediction_length])\n",
    "    \n",
    "    #get spectrograms w/o padding\n",
    "    list_offset = (len(spectrogram_list)-prediction_length) // 2\n",
    "    spectrograms = np.concatenate(spectrogram_list[list_offset:list_offset + prediction_length])\n",
    "\n",
    "    return torch.stack(stacked_predictions, dim=-3).numpy(), spectrograms"
   ]
  },
  {
   "cell_type": "code",
   "execution_count": 24,
   "id": "a4a2be38",
   "metadata": {},
   "outputs": [],
   "source": [
    "# internal funcs\n",
    "def _iterate_audiofiles(rootFolderPath, audio_format):\n",
    "    for root, dirs, files in os.walk(rootFolderPath):\n",
    "        for filename in files:\n",
    "            if filename.endswith(audio_format):\n",
    "                yield root, filename"
   ]
  },
  {
   "cell_type": "code",
   "execution_count": 62,
   "id": "fa8c0986",
   "metadata": {},
   "outputs": [],
   "source": [
    "def _build_timestmap_list(mean_predictions, G_X, U_X, time_to_sample, det_threshold):\n",
    "    \"\"\"Use the predictions to build an array of contiguous timestamps where the\n",
    "    probability of detection is above threshold\"\"\"\n",
    "    \n",
    "    # find where the average 2nd element (positive score) is > threshold\n",
    "    condition = mean_predictions[:, 1] > det_threshold\n",
    "    preds_list = []\n",
    "    for start, stop in _contiguous_regions(condition):\n",
    "        # start and stop are frame indexes\n",
    "        # so multiply by n_hop and step_size samples\n",
    "        # then div by sample rate to get seconds\n",
    "        preds_list.append([str(start * time_to_sample), str(stop * time_to_sample),\n",
    "                           \"{:.4f}\".format(\n",
    "                               np.mean(mean_predictions[start:stop][:, 1]))\n",
    "                           + \" PE: \" +\n",
    "                           \"{:.4f}\".format(np.mean(G_X[start:stop]))\n",
    "                           + \" MI: \" + \"{:.4f}\".format(np.mean(U_X[start:stop]))])\n"
   ]
  },
  {
   "cell_type": "code",
   "execution_count": 6,
   "id": "07218841",
   "metadata": {},
   "outputs": [],
   "source": [
    "!mkdir -p ../data/output"
   ]
  },
  {
   "cell_type": "code",
   "execution_count": 6,
   "id": "504ebf76",
   "metadata": {},
   "outputs": [],
   "source": [
    "# cmd args\n",
    "rootFolderPath = '/data'\n",
    "audio_format = '.aac'\n",
    "dir_out= '/data/output'\n",
    "norm_per_sample = True\n",
    "win_size = 360\n",
    "step_size = 120\n",
    "to_dash = True\n",
    "n_samples = 10\n",
    "det_threshold = 0.5\n",
    "\n",
    "# default args\n",
    "n_fft = 1024\n",
    "n_hop = n_fft // 8\n",
    "sr = 8000\n",
    "batch_size = 16"
   ]
  },
  {
   "cell_type": "code",
   "execution_count": 8,
   "id": "5986df6a",
   "metadata": {},
   "outputs": [
    {
     "name": "stdout",
     "output_type": "stream",
     "text": [
      "sampling rate = 8000. Please make sure the sampling rate is correct in order toget a valid freq range\n",
      "STFT kernels created, time used = 0.0204 seconds\n"
     ]
    }
   ],
   "source": [
    "device = torch.device('cuda:0' if torch.cuda.is_available() else torch.device(\"cpu\"))\n",
    "model = Model('convnext_base_384_in22ft1k', image_size=384, NFFT=n_fft, n_hop=n_hop)\n",
    "checkpoint = torch.load('/models/model_e1_2022_04_07_11_52_08.pth')"
   ]
  },
  {
   "cell_type": "code",
   "execution_count": 9,
   "id": "319f4a28",
   "metadata": {},
   "outputs": [],
   "source": [
    "model.load_state_dict(checkpoint)\n",
    "model = model.to(device)\n",
    "model.eval()\n",
    "model_name = 'mids_v4'\n"
   ]
  },
  {
   "cell_type": "code",
   "execution_count": 25,
   "id": "bde57b3c",
   "metadata": {},
   "outputs": [
    {
     "name": "stdout",
     "output_type": "stream",
     "text": [
      "['/data/R4_cleaned recording_17-10-17.aac']\n"
     ]
    },
    {
     "name": "stderr",
     "output_type": "stream",
     "text": [
      "/usr/local/lib/python3.8/dist-packages/librosa/util/decorators.py:88: UserWarning: PySoundFile failed. Trying audioread instead.\n",
      "  return f(*args, **kwargs)\n"
     ]
    }
   ],
   "source": [
    "for root, filename in _iterate_audiofiles(rootFolderPath, audio_format):\n",
    "    print([os.path.join(root, filename)])\n",
    "    signal, signal_length = _get_wav_for_path_pipeline([os.path.join(root, filename)], sr=sr)\n",
    "    if signal_length < (n_hop * win_size) / sr:\n",
    "        logger.info(f\"{filename} too short. {signal_length} < {(n_hop * win_size) / sr}\")\n",
    "        break\n",
    "    else:\n",
    "        logger.info(f\"Read {filename}.  Signal Length: {signal_length}\")\n",
    "\n",
    "    predictions, spectrograms = _predict_on_frames(\n",
    "            signal, model, device, step_size, n_hop, batch_size)\n",
    "\n",
    "#    timestamps = _build_timestmap_list(predictions, timestamps, signal_length * sr, step_size, n_hop)"
   ]
  },
  {
   "cell_type": "code",
   "execution_count": null,
   "id": "6983cf1d",
   "metadata": {},
   "outputs": [],
   "source": [
    "frame_count = signal.unfold(1, win_size * n_hop, step_size * n_hop).shape[1]\n",
    "G_X, U_X, _ = active_BALD(np.log(predictions), frame_count, 2)\n",
    "mean_predictions = np.mean(predictions, axis=0)"
   ]
  },
  {
   "cell_type": "code",
   "execution_count": 66,
   "id": "ee48f6af",
   "metadata": {},
   "outputs": [],
   "source": [
    "frame_count = signal.unfold(1, win_size * n_hop, step_size * n_hop).shape[1]\n",
    "\n",
    "G_X, U_X, _ = active_BALD(np.log(predictions), frame_count, 2)\n",
    "mean_predictions = np.mean(predictions, axis=0)\n",
    "# find where the average 2nd element (positive score) is > threshold\n",
    "condition = mean_predictions[:,1] > det_threshold\n",
    "preds_list = []\n",
    "for start, stop in contiguous_regions(condition):\n",
    "    # start and stop are frame indexes\n",
    "    # so multiply by n_hop and step_size samples\n",
    "    # then div by sample rate to get seconds\n",
    "    preds_list.append([str(start * n_hop * step_size / sr), str(stop * n_hop * step_size / sr),\n",
    "                      \"{:.4f}\".format(np.mean(mean_predictions[start:stop][:,1])) +\n",
    "                      \" PE: \" + \"{:.4f}\".format(np.mean(G_X[start:stop])) + \n",
    "                      \" MI: \" + \"{:.4f}\".format(np.mean(U_X[start:stop]))])\n",
    "\n"
   ]
  },
  {
   "cell_type": "code",
   "execution_count": 67,
   "id": "c4d38386",
   "metadata": {},
   "outputs": [
    {
     "data": {
      "text/plain": [
       "[['0.0', '1.92', '0.5481 PE: 0.9933 MI: 0.3878'],\n",
       " ['15.36', '32.64', '0.7459 PE: 0.7242 MI: 0.2905'],\n",
       " ['36.48', '44.16', '0.8418 PE: 0.5803 MI: 0.1224'],\n",
       " ['48.0', '495.36', '0.9101 PE: 0.3966 MI: 0.0287'],\n",
       " ['497.28', '650.88', '0.8908 PE: 0.4369 MI: 0.0503']]"
      ]
     },
     "execution_count": 67,
     "metadata": {},
     "output_type": "execute_result"
    }
   ],
   "source": [
    "preds_list"
   ]
  },
  {
   "cell_type": "code",
   "execution_count": 65,
   "id": "b76f921c",
   "metadata": {},
   "outputs": [],
   "source": [
    "def contiguous_regions(condition):\n",
    "    \"\"\"Finds contiguous True regions of the boolean array \"condition\". Returns\n",
    "    a 2D array where the first column is the start index of the region and the\n",
    "    second column is the end index.\"\"\"\n",
    "\n",
    "    # Find the indicies of changes in \"condition\"\n",
    "    d = np.diff(condition)\n",
    "    idx, = d.nonzero() \n",
    "\n",
    "    # We need to start things after the change in \"condition\". Therefore, \n",
    "    # we'll shift the index by 1 to the right.\n",
    "    idx += 1\n",
    "\n",
    "    if condition[0]:\n",
    "        # If the start of condition is True prepend a 0\n",
    "        idx = np.r_[0, idx]\n",
    "\n",
    "    if condition[-1]:\n",
    "        # If the end of condition is True, append the length of the array\n",
    "        idx = np.r_[idx, condition.size] # Edit\n",
    "\n",
    "    # Reshape the result into two columns\n",
    "    idx.shape = (-1,2)\n",
    "    return idx"
   ]
  },
  {
   "cell_type": "code",
   "execution_count": 61,
   "id": "61a042bd",
   "metadata": {
    "scrolled": true
   },
   "outputs": [
    {
     "data": {
      "text/plain": [
       "array([0.98878771, 0.88365421, 0.34414648, 0.35089149, 0.35172807,\n",
       "       0.34690555, 0.33684758, 0.85760864, 0.98811393, 0.63076574,\n",
       "       0.95452906, 0.95686625, 0.94572555, 0.37507287, 0.33257134,\n",
       "       0.38695776, 0.94721222, 0.98441313, 0.9846773 , 0.85937661,\n",
       "       0.37115957, 0.33896366, 0.7517881 , 0.99979106, 0.99568621,\n",
       "       0.96426813, 0.47100309, 0.61637149, 0.99084098, 0.99738637,\n",
       "       0.96063076, 0.43300074, 0.32375946, 0.30491626, 0.321109  ,\n",
       "       0.31851106, 0.33717914, 0.32729601, 0.34460322, 0.63797813,\n",
       "       0.69143386, 0.71130158, 0.44774413, 0.35364813, 0.28115922,\n",
       "       0.27119917, 0.27312852, 0.27977629, 0.28411984, 0.28487782,\n",
       "       0.29444797, 0.30568511, 0.31794627, 0.31521198, 0.32473654,\n",
       "       0.42613478, 0.44278118, 0.43019263, 0.33028798, 0.30627674,\n",
       "       0.30336519, 0.28512884, 0.28750058, 0.3054964 , 0.39980418,\n",
       "       0.52345543, 0.52631507, 0.45589214, 0.30978409, 0.28910371,\n",
       "       0.2840834 , 0.28296902, 0.28264872, 0.28207278, 0.30047768,\n",
       "       0.3214782 , 0.34325841, 0.34259197, 0.32088874, 0.30510331,\n",
       "       0.31873904, 0.52724544, 0.7306012 , 0.74434728, 0.63492232,\n",
       "       0.40546918, 0.36542105, 0.33066689, 0.38117691, 0.44222823,\n",
       "       0.45407266, 0.40052829, 0.33275828, 0.31369874, 0.29476369,\n",
       "       0.28350412, 0.27752591, 0.28067508, 0.2861976 , 0.34885269,\n",
       "       0.38746697, 0.39186767, 0.33895548, 0.30063898, 0.29304496,\n",
       "       0.2944292 , 0.29826727, 0.3201022 , 0.32976739, 0.32341382,\n",
       "       0.30760169, 0.29407452, 0.29091647, 0.27999032, 0.28066889,\n",
       "       0.29816953, 0.37848767, 0.45540963, 0.45074085, 0.38470189,\n",
       "       0.29924422, 0.3047222 , 0.33223688, 0.36296297, 0.36974925,\n",
       "       0.39294903, 0.4326543 , 0.42604978, 0.39251286, 0.32163747,\n",
       "       0.31556284, 0.32583047, 0.33925323, 0.34364773, 0.32356499,\n",
       "       0.31008933, 0.30434414, 0.31724659, 0.35842829, 0.38149013,\n",
       "       0.38362067, 0.34969074, 0.33397429, 0.31816532, 0.30511793,\n",
       "       0.29192714, 0.28774142, 0.30641736, 0.54965429, 0.94321178,\n",
       "       0.94260252, 0.86520151, 0.32268424, 0.34350115, 0.34568742,\n",
       "       0.32722423, 0.29617665, 0.28704975, 0.29208822, 0.31304473,\n",
       "       0.36072201, 0.36497561, 0.34607128, 0.31349634, 0.36740553,\n",
       "       0.92060076, 0.92723038, 0.91139769, 0.3346218 , 0.31085276,\n",
       "       0.36626899, 0.38787543, 0.38412689, 0.33453715, 0.3350867 ,\n",
       "       0.64869839, 0.69521716, 0.6826775 , 0.38673431, 0.32614077,\n",
       "       0.32990772, 0.34581852, 0.32722711, 0.32820159, 0.30954025,\n",
       "       0.39628787, 0.54611094, 0.60728177, 0.56108858, 0.40712291,\n",
       "       0.31991566, 0.31280041, 0.30833974, 0.30193436, 0.28230475,\n",
       "       0.50361067, 0.68489926, 0.99003637, 0.9861058 , 0.94519106,\n",
       "       0.48760662, 0.31947465, 0.32035067, 0.31716916, 0.30950437,\n",
       "       0.3434986 , 0.36756986, 0.38017868, 0.33730856, 0.30821957,\n",
       "       0.28657226, 0.28475273, 0.2754873 , 0.27288483, 0.26983795,\n",
       "       0.27915811, 0.29415836, 0.31894973, 0.31554192, 0.30305414,\n",
       "       0.27776238, 0.28001345, 0.2856882 , 0.29185552, 0.28933245,\n",
       "       0.30907292, 0.36227468, 0.40296787, 0.38505083, 0.32859943,\n",
       "       0.28521829, 0.28862209, 0.29541846, 0.30221776, 0.35666203,\n",
       "       0.4357253 , 0.45992525, 0.4250064 , 0.36192754, 0.3513179 ,\n",
       "       0.33713105, 0.3152671 , 0.28362068, 0.28317997, 0.28129021,\n",
       "       0.28898767, 0.28695817, 0.31416679, 0.34142612, 0.35478541,\n",
       "       0.3392496 , 0.33336719, 0.34860186, 0.3698253 , 0.38250438,\n",
       "       0.50566219, 0.70637377, 0.98862511, 0.99962487, 0.98724142,\n",
       "       0.69409846, 0.38743023, 0.36833241, 0.34623483, 0.31982395,\n",
       "       0.31792252, 0.31780015, 0.32022506, 0.30975081, 0.61168341,\n",
       "       0.9621069 , 0.98739958, 0.92539089, 0.47703703, 0.29583166,\n",
       "       0.282269  , 0.28516744, 0.28902687, 0.29024315, 0.29344862,\n",
       "       0.30508687, 0.46815195, 0.50756279, 0.50953325, 0.35808812,\n",
       "       0.30685361, 0.29411738, 0.31306983, 0.46984889, 0.94922495,\n",
       "       0.96105932, 0.92813084, 0.38799817, 0.31157153, 0.30290887,\n",
       "       0.31029804, 0.48276252, 0.50689662, 0.508102  , 0.33778906,\n",
       "       0.30112455, 0.28192177, 0.28062496, 0.30120857, 0.34270661,\n",
       "       0.35217548, 0.33483906, 0.30130913, 0.2949336 , 0.2943115 ,\n",
       "       0.29475596, 0.30470018, 0.40862934, 0.50541903, 0.56242873,\n",
       "       0.4986163 , 0.41321664, 0.34880868, 0.34094447, 0.33455085,\n",
       "       0.33656293, 0.48476819, 0.94752027, 0.95209269, 0.91087436,\n",
       "       0.33657373, 0.28931045, 0.29187035, 0.29615435, 0.30105877,\n",
       "       0.32049622, 0.32871473, 0.33553484, 0.32461641, 0.35340178,\n",
       "       0.38498714, 0.39059289, 0.36088486, 0.32499255])"
      ]
     },
     "execution_count": 61,
     "metadata": {},
     "output_type": "execute_result"
    }
   ],
   "source": [
    "G_X"
   ]
  },
  {
   "cell_type": "code",
   "execution_count": 60,
   "id": "abf2f582",
   "metadata": {},
   "outputs": [
    {
     "data": {
      "text/plain": [
       "array([[0.4519141 , 0.54808587],\n",
       "       [0.7053557 , 0.29464427],\n",
       "       [0.9357353 , 0.06426468],\n",
       "       [0.9339802 , 0.06601977],\n",
       "       [0.9337612 , 0.06623877],\n",
       "       [0.93501973, 0.06498031],\n",
       "       [0.93761325, 0.06238679],\n",
       "       [0.7184098 , 0.2815903 ],\n",
       "       [0.43590578, 0.56409425],\n",
       "       [0.15852357, 0.84147644],\n",
       "       [0.37512907, 0.62487096],\n",
       "       [0.37834707, 0.6216529 ],\n",
       "       [0.36371717, 0.6362828 ],\n",
       "       [0.0724696 , 0.92753047],\n",
       "       [0.0612968 , 0.93870324],\n",
       "       [0.07573163, 0.9242684 ],\n",
       "       [0.36557305, 0.6344269 ],\n",
       "       [0.5733656 , 0.4266344 ],\n",
       "       [0.5727435 , 0.4272565 ],\n",
       "       [0.28290328, 0.71709675],\n",
       "       [0.07140891, 0.9285911 ],\n",
       "       [0.06292895, 0.9370711 ],\n",
       "       [0.2154587 , 0.7845413 ],\n",
       "       [0.50850934, 0.4914907 ],\n",
       "       [0.5386465 , 0.4613535 ],\n",
       "       [0.3891797 , 0.6108203 ],\n",
       "       [0.10063431, 0.8993657 ],\n",
       "       [0.15262537, 0.8473746 ],\n",
       "       [0.44371894, 0.55628103],\n",
       "       [0.4699123 , 0.5300877 ],\n",
       "       [0.38372543, 0.61627454],\n",
       "       [0.08896352, 0.9110365 ],\n",
       "       [0.05907434, 0.9409256 ],\n",
       "       [0.05442781, 0.94557214],\n",
       "       [0.05841209, 0.9415879 ],\n",
       "       [0.05776572, 0.9422343 ],\n",
       "       [0.06247161, 0.9375284 ],\n",
       "       [0.05996248, 0.9400375 ],\n",
       "       [0.06438293, 0.935617  ],\n",
       "       [0.16153878, 0.8384612 ],\n",
       "       [0.18525256, 0.8147475 ],\n",
       "       [0.19474931, 0.80525064],\n",
       "       [0.09340801, 0.90659195],\n",
       "       [0.06674255, 0.9332575 ],\n",
       "       [0.04877242, 0.9512276 ],\n",
       "       [0.04646794, 0.95353204],\n",
       "       [0.04691129, 0.9530887 ],\n",
       "       [0.04845011, 0.95154995],\n",
       "       [0.04946496, 0.950535  ],\n",
       "       [0.04964283, 0.95035714],\n",
       "       [0.05190814, 0.9480918 ],\n",
       "       [0.05461461, 0.9453854 ],\n",
       "       [0.05762556, 0.94237447],\n",
       "       [0.05694885, 0.94305116],\n",
       "       [0.05931923, 0.9406808 ],\n",
       "       [0.08692885, 0.91307116],\n",
       "       [0.09190031, 0.90809965],\n",
       "       [0.08812871, 0.9118714 ],\n",
       "       [0.06071786, 0.9392821 ],\n",
       "       [0.05475851, 0.94524145],\n",
       "       [0.05405173, 0.9459483 ],\n",
       "       [0.0497018 , 0.95029825],\n",
       "       [0.05026005, 0.94973993],\n",
       "       [0.05456875, 0.94543123],\n",
       "       [0.07932723, 0.9206727 ],\n",
       "       [0.11795554, 0.8820445 ],\n",
       "       [0.11894306, 0.88105696],\n",
       "       [0.09590916, 0.9040909 ],\n",
       "       [0.05561445, 0.9443855 ],\n",
       "       [0.05063866, 0.9493613 ],\n",
       "       [0.04945643, 0.9505436 ],\n",
       "       [0.04919536, 0.95080465],\n",
       "       [0.04912042, 0.9508796 ],\n",
       "       [0.04898575, 0.9510143 ],\n",
       "       [0.05335412, 0.9466459 ],\n",
       "       [0.05850416, 0.94149584],\n",
       "       [0.06403502, 0.935965  ],\n",
       "       [0.06386288, 0.93613714],\n",
       "       [0.05835719, 0.94164276],\n",
       "       [0.05447324, 0.9455268 ],\n",
       "       [0.05782233, 0.9421777 ],\n",
       "       [0.11926534, 0.8807346 ],\n",
       "       [0.20437954, 0.79562044],\n",
       "       [0.21150374, 0.78849626],\n",
       "       [0.16025628, 0.8397438 ],\n",
       "       [0.08093615, 0.91906387],\n",
       "       [0.06986538, 0.9301346 ],\n",
       "       [0.06081379, 0.9391863 ],\n",
       "       [0.07413731, 0.9258627 ],\n",
       "       [0.09173306, 0.908267  ],\n",
       "       [0.09534784, 0.9046521 ],\n",
       "       [0.07953206, 0.9204679 ],\n",
       "       [0.06134428, 0.9386557 ],\n",
       "       [0.05657563, 0.9434244 ],\n",
       "       [0.0519835 , 0.94801646],\n",
       "       [0.04932067, 0.95067936],\n",
       "       [0.04792726, 0.9520728 ],\n",
       "       [0.04865951, 0.9513405 ],\n",
       "       [0.04995308, 0.95004696],\n",
       "       [0.06548726, 0.9345128 ],\n",
       "       [0.07587276, 0.9241273 ],\n",
       "       [0.07709724, 0.92290276],\n",
       "       [0.06292684, 0.9370732 ],\n",
       "       [0.053393  , 0.94660693],\n",
       "       [0.05157376, 0.94842625],\n",
       "       [0.05190367, 0.94809633],\n",
       "       [0.05282237, 0.94717765],\n",
       "       [0.05816128, 0.94183874],\n",
       "       [0.06058616, 0.93941385],\n",
       "       [0.05898783, 0.94101214],\n",
       "       [0.05508126, 0.9449187 ],\n",
       "       [0.05181905, 0.9481809 ],\n",
       "       [0.05106797, 0.948932  ],\n",
       "       [0.04849994, 0.9515    ],\n",
       "       [0.04865805, 0.9513419 ],\n",
       "       [0.0527989 , 0.9472011 ],\n",
       "       [0.07340058, 0.92659944],\n",
       "       [0.09576014, 0.9042399 ],\n",
       "       [0.09432413, 0.9056759 ],\n",
       "       [0.07510773, 0.92489225],\n",
       "       [0.05305715, 0.9469428 ],\n",
       "       [0.05438073, 0.94561934],\n",
       "       [0.06121185, 0.9387881 ],\n",
       "       [0.0692085 , 0.93079156],\n",
       "       [0.07102826, 0.92897177],\n",
       "       [0.07739944, 0.92260057],\n",
       "       [0.08886034, 0.91113967],\n",
       "       [0.08690379, 0.9130962 ],\n",
       "       [0.07727749, 0.9227225 ],\n",
       "       [0.05854391, 0.9414561 ],\n",
       "       [0.05703551, 0.9429645 ],\n",
       "       [0.05959383, 0.94040614],\n",
       "       [0.06300327, 0.9369967 ],\n",
       "       [0.06413565, 0.93586427],\n",
       "       [0.05902566, 0.9409743 ],\n",
       "       [0.05568917, 0.94431084],\n",
       "       [0.05428898, 0.9457111 ],\n",
       "       [0.0574521 , 0.94254786],\n",
       "       [0.06800342, 0.9319965 ],\n",
       "       [0.07422329, 0.9257767 ],\n",
       "       [0.07480948, 0.92519045],\n",
       "       [0.06570595, 0.93429404],\n",
       "       [0.06165357, 0.93834645],\n",
       "       [0.0576799 , 0.94232005],\n",
       "       [0.05447678, 0.9455232 ],\n",
       "       [0.05130791, 0.9486921 ],\n",
       "       [0.05031685, 0.9496831 ],\n",
       "       [0.05479273, 0.9452073 ],\n",
       "       [0.12718035, 0.87281966],\n",
       "       [0.36063838, 0.6393617 ],\n",
       "       [0.35990286, 0.64009714],\n",
       "       [0.28729513, 0.7127049 ],\n",
       "       [0.05880535, 0.9411947 ],\n",
       "       [0.06409774, 0.9359023 ],\n",
       "       [0.06466397, 0.93533605],\n",
       "       [0.05994441, 0.94005555],\n",
       "       [0.05232121, 0.9476788 ],\n",
       "       [0.05015375, 0.94984627],\n",
       "       [0.05134619, 0.94865376],\n",
       "       [0.05641462, 0.9435854 ],\n",
       "       [0.0686119 , 0.9313881 ],\n",
       "       [0.06974614, 0.9302538 ],\n",
       "       [0.06476358, 0.9352364 ],\n",
       "       [0.05652578, 0.94347423],\n",
       "       [0.07039756, 0.9296024 ],\n",
       "       [0.33565578, 0.66434425],\n",
       "       [0.3425419 , 0.6574581 ],\n",
       "       [0.32658362, 0.67341644],\n",
       "       [0.06181851, 0.93818146],\n",
       "       [0.05587624, 0.94412374],\n",
       "       [0.07009257, 0.9299074 ],\n",
       "       [0.07598606, 0.9240139 ],\n",
       "       [0.07494906, 0.925051  ],\n",
       "       [0.06179693, 0.93820304],\n",
       "       [0.06193702, 0.93806297],\n",
       "       [0.16609716, 0.83390284],\n",
       "       [0.18703012, 0.8129699 ],\n",
       "       [0.18119188, 0.8188081 ],\n",
       "       [0.07566974, 0.9243303 ],\n",
       "       [0.05967182, 0.9403282 ],\n",
       "       [0.06062165, 0.9393783 ],\n",
       "       [0.06469798, 0.935302  ],\n",
       "       [0.05994513, 0.94005483],\n",
       "       [0.06019073, 0.9398093 ],\n",
       "       [0.05555479, 0.9444452 ],\n",
       "       [0.07833578, 0.92166424],\n",
       "       [0.12590903, 0.87409097],\n",
       "       [0.14897998, 0.85102004],\n",
       "       [0.13133518, 0.8686648 ],\n",
       "       [0.08140853, 0.9185915 ],\n",
       "       [0.05811484, 0.9418852 ],\n",
       "       [0.0563545 , 0.9436455 ],\n",
       "       [0.05526135, 0.9447386 ],\n",
       "       [0.05370562, 0.9462943 ],\n",
       "       [0.04903998, 0.95096   ],\n",
       "       [0.11122861, 0.8887715 ],\n",
       "       [0.18221526, 0.8177848 ],\n",
       "       [0.44130442, 0.5586956 ],\n",
       "       [0.4307188 , 0.56928116],\n",
       "       [0.36305642, 0.6369436 ],\n",
       "       [0.10595936, 0.8940406 ],\n",
       "       [0.05800514, 0.94199485],\n",
       "       [0.05822313, 0.9417768 ],\n",
       "       [0.05743293, 0.94256705],\n",
       "       [0.055546  , 0.944454  ],\n",
       "       [0.0640971 , 0.9359029 ],\n",
       "       [0.0704417 , 0.9295583 ],\n",
       "       [0.07386347, 0.9261365 ],\n",
       "       [0.06250474, 0.93749523],\n",
       "       [0.05523203, 0.944768  ],\n",
       "       [0.05004128, 0.94995874],\n",
       "       [0.04961348, 0.9503865 ],\n",
       "       [0.04745531, 0.9525447 ],\n",
       "       [0.04685521, 0.9531448 ],\n",
       "       [0.04615602, 0.953844  ],\n",
       "       [0.04830629, 0.9516937 ],\n",
       "       [0.05183906, 0.94816095],\n",
       "       [0.05787468, 0.9421253 ],\n",
       "       [0.05703035, 0.9429696 ],\n",
       "       [0.05397643, 0.94602364],\n",
       "       [0.04798211, 0.95201796],\n",
       "       [0.04850534, 0.9514947 ],\n",
       "       [0.04983325, 0.9501667 ],\n",
       "       [0.0512909 , 0.9487091 ],\n",
       "       [0.05069274, 0.94930726],\n",
       "       [0.05544049, 0.9445595 ],\n",
       "       [0.06902503, 0.93097496],\n",
       "       [0.08022397, 0.919776  ],\n",
       "       [0.07520409, 0.9247959 ],\n",
       "       [0.06029111, 0.93970895],\n",
       "       [0.04972281, 0.95027727],\n",
       "       [0.0505248 , 0.9494752 ],\n",
       "       [0.05213988, 0.94786006],\n",
       "       [0.05377411, 0.9462259 ],\n",
       "       [0.06753641, 0.9324636 ],\n",
       "       [0.08977708, 0.91022295],\n",
       "       [0.09715921, 0.9028408 ],\n",
       "       [0.08659657, 0.91340345],\n",
       "       [0.06893259, 0.93106747],\n",
       "       [0.06613138, 0.9338687 ],\n",
       "       [0.06245932, 0.9375407 ],\n",
       "       [0.05696246, 0.9430375 ],\n",
       "       [0.04934797, 0.95065206],\n",
       "       [0.04924474, 0.9507553 ],\n",
       "       [0.048803  , 0.95119697],\n",
       "       [0.05061121, 0.9493888 ],\n",
       "       [0.05013217, 0.9498678 ],\n",
       "       [0.05669097, 0.943309  ],\n",
       "       [0.06356218, 0.9364378 ],\n",
       "       [0.06704164, 0.93295836],\n",
       "       [0.06300235, 0.93699765],\n",
       "       [0.06149909, 0.93850094],\n",
       "       [0.06542187, 0.9345782 ],\n",
       "       [0.07104877, 0.92895126],\n",
       "       [0.0745021 , 0.92549783],\n",
       "       [0.11191395, 0.888086  ],\n",
       "       [0.19235583, 0.8076442 ],\n",
       "       [0.43729544, 0.56270456],\n",
       "       [0.5114016 , 0.48859844],\n",
       "       [0.4336017 , 0.5663983 ],\n",
       "       [0.18650304, 0.813497  ],\n",
       "       [0.07586258, 0.9241374 ],\n",
       "       [0.07064671, 0.92935324],\n",
       "       [0.06480606, 0.93519396],\n",
       "       [0.05809203, 0.94190794],\n",
       "       [0.05761969, 0.94238037],\n",
       "       [0.05758932, 0.94241065],\n",
       "       [0.05819186, 0.94180816],\n",
       "       [0.05560629, 0.9443937 ],\n",
       "       [0.15073775, 0.84926224],\n",
       "       [0.38590637, 0.6140936 ],\n",
       "       [0.43401334, 0.5659867 ],\n",
       "       [0.34059915, 0.6594009 ],\n",
       "       [0.10255314, 0.8974469 ],\n",
       "       [0.05223868, 0.9477613 ],\n",
       "       [0.04903161, 0.95096844],\n",
       "       [0.04971086, 0.9502891 ],\n",
       "       [0.05062047, 0.9493795 ],\n",
       "       [0.05090836, 0.9490916 ],\n",
       "       [0.05166989, 0.9483301 ],\n",
       "       [0.05446925, 0.9455307 ],\n",
       "       [0.09973403, 0.90026593],\n",
       "       [0.11255095, 0.887449  ],\n",
       "       [0.11321345, 0.8867865 ],\n",
       "       [0.06791339, 0.93208665],\n",
       "       [0.05489895, 0.945101  ],\n",
       "       [0.05182928, 0.94817066],\n",
       "       [0.0564208 , 0.9435792 ],\n",
       "       [0.10026938, 0.8997307 ],\n",
       "       [0.36812937, 0.63187057],\n",
       "       [0.38435423, 0.61564577],\n",
       "       [0.34350237, 0.65649766],\n",
       "       [0.07602013, 0.92397994],\n",
       "       [0.05605258, 0.9439475 ],\n",
       "       [0.05394126, 0.94605875],\n",
       "       [0.05574031, 0.9442597 ],\n",
       "       [0.10439113, 0.8956089 ],\n",
       "       [0.11232746, 0.8876725 ],\n",
       "       [0.11273205, 0.887268  ],\n",
       "       [0.06262778, 0.9373722 ],\n",
       "       [0.05351012, 0.9464899 ],\n",
       "       [0.04895047, 0.9510495 ],\n",
       "       [0.04864781, 0.9513522 ],\n",
       "       [0.05353038, 0.9464696 ],\n",
       "       [0.06389248, 0.93610746],\n",
       "       [0.06635603, 0.933644  ],\n",
       "       [0.06187389, 0.9381261 ],\n",
       "       [0.05355466, 0.9464453 ],\n",
       "       [0.05202406, 0.94797593],\n",
       "       [0.05187558, 0.9481244 ],\n",
       "       [0.05198166, 0.9480184 ],\n",
       "       [0.05437538, 0.94562465],\n",
       "       [0.08183994, 0.91816014],\n",
       "       [0.11183262, 0.8881674 ],\n",
       "       [0.13182744, 0.8681726 ],\n",
       "       [0.10956957, 0.8904304 ],\n",
       "       [0.08315992, 0.9168401 ],\n",
       "       [0.06547579, 0.93452424],\n",
       "       [0.06343815, 0.9365619 ],\n",
       "       [0.06180044, 0.9381996 ],\n",
       "       [0.062314  , 0.93768597],\n",
       "       [0.10503896, 0.89496106],\n",
       "       [0.365961  , 0.63403904],\n",
       "       [0.37186417, 0.62813586],\n",
       "       [0.3260831 , 0.6739169 ],\n",
       "       [0.06231676, 0.9376833 ],\n",
       "       [0.05068754, 0.94931245],\n",
       "       [0.05129443, 0.9487056 ],\n",
       "       [0.05231586, 0.9476841 ],\n",
       "       [0.05349423, 0.9465057 ],\n",
       "       [0.05825938, 0.9417407 ],\n",
       "       [0.06032021, 0.9396798 ],\n",
       "       [0.06205137, 0.93794864],\n",
       "       [0.05928908, 0.94071084],\n",
       "       [0.06667781, 0.93332213],\n",
       "       [0.07518649, 0.92481345],\n",
       "       [0.07674167, 0.9232583 ],\n",
       "       [0.06865517, 0.9313448 ],\n",
       "       [0.05938345, 0.9406166 ]], dtype=float32)"
      ]
     },
     "execution_count": 60,
     "metadata": {},
     "output_type": "execute_result"
    }
   ],
   "source": [
    "np.mean(predictions, axis=0)"
   ]
  },
  {
   "cell_type": "code",
   "execution_count": 22,
   "id": "bfa47092",
   "metadata": {},
   "outputs": [
    {
     "data": {
      "text/plain": [
       "torch.Size([1, 28797952])"
      ]
     },
     "execution_count": 22,
     "metadata": {},
     "output_type": "execute_result"
    }
   ],
   "source": [
    "signal.shape"
   ]
  },
  {
   "cell_type": "code",
   "execution_count": 16,
   "id": "e8dcd71e",
   "metadata": {},
   "outputs": [],
   "source": [
    "batch_signals = torch.split(padded_stepped_signal, batch_size, 0)"
   ]
  },
  {
   "cell_type": "code",
   "execution_count": 19,
   "id": "ed6419d1",
   "metadata": {},
   "outputs": [
    {
     "data": {
      "text/plain": [
       "torch.Size([16, 1, 15360])"
      ]
     },
     "execution_count": 19,
     "metadata": {},
     "output_type": "execute_result"
    }
   ],
   "source": [
    "batch_signals[0].shape"
   ]
  },
  {
   "cell_type": "code",
   "execution_count": 31,
   "id": "363866f0",
   "metadata": {},
   "outputs": [],
   "source": [
    "# file names and output directories\n",
    "file_suffix = f'_MIDS_win_{win_size}_step_{step_size}_{model_name}_{det_threshold}.txt'\n",
    "if dir_out:\n",
    "    root_out = root.replace(rootFolderPath, dir_out)\n",
    "else:\n",
    "    root_out = root\n",
    "if not os.path.exists(root_out):\n",
    "    os.makedirs(root_out)\n",
    "output_filename = os.path.splitext(filename)[0]\n",
    "\n",
    "text_output_filename = os.path.join(root_out, output_filename) + file_suffix"
   ]
  },
  {
   "cell_type": "code",
   "execution_count": 32,
   "id": "d73d7ce5",
   "metadata": {},
   "outputs": [
    {
     "data": {
      "text/plain": [
       "'/data/output/R4_cleaned recording_17-10-17_MIDS_win_360_step_120_mids_v4_0.5.txt'"
      ]
     },
     "execution_count": 32,
     "metadata": {},
     "output_type": "execute_result"
    }
   ],
   "source": [
    "text_output_filename"
   ]
  },
  {
   "cell_type": "code",
   "execution_count": 30,
   "id": "d5e63a29",
   "metadata": {},
   "outputs": [
    {
     "data": {
      "text/plain": [
       "'R4_cleaned recording_17-10-17.aac'"
      ]
     },
     "execution_count": 30,
     "metadata": {},
     "output_type": "execute_result"
    }
   ],
   "source": [
    "os.path.basename(filename)"
   ]
  },
  {
   "cell_type": "code",
   "execution_count": 33,
   "id": "72ead23d",
   "metadata": {},
   "outputs": [],
   "source": [
    "#--- write audio"
   ]
  },
  {
   "cell_type": "code",
   "execution_count": 57,
   "id": "ea087e64",
   "metadata": {},
   "outputs": [],
   "source": [
    "'''Create output audio based on input. Returns wave format. Potential for speedup for video creation by returning\n",
    "    the same filetype as was input, but not implemented due to downstream processing which utilises wav files for \n",
    "    compatibility.'''\n",
    "mozz_audio_list = []\n",
    "mozz_meta = []\n",
    "has_mosquito = False\n",
    "start_time = 0\n",
    "with open(text_output_filename) as f:\n",
    "    reader = csv.reader(f, delimiter='\\t')\n",
    "    for line in reader:\n",
    "        p = float(line[2].split()[0])\n",
    "        PE = float(line[2].split()[2])\n",
    "        MI = float(line[2].split()[4])\n",
    "\n",
    "        duration = float(line[1])-float(line[0])\n",
    "\n",
    "        mozz_meta.append([str(start_time), str(start_time + duration), line[0] + '-' + line[1] + '   P: ' + line[2]]) \n",
    "\n",
    "        #print(f\"{int(float(line[0])*sr)}:{int(float(line[1])*sr)}\")\n",
    "        mozz_audio_list.append(signal[0][int(float(line[0]) * sr):int(float(line[1]) * sr)])\n",
    "\n",
    "        start_time += duration  # Append length of previous prediction to transfer i\n"
   ]
  },
  {
   "cell_type": "code",
   "execution_count": null,
   "id": "1a8ca512",
   "metadata": {},
   "outputs": [
    {
     "data": {
      "text/plain": [
       "tensor([ 0.0000,  0.0000,  0.0000,  ..., -0.0199, -0.0184, -0.0071])"
      ]
     },
     "execution_count": 58,
     "metadata": {},
     "output_type": "execute_result"
    }
   ],
   "source": [
    "mozz_audio_list[0]"
   ]
  },
  {
   "cell_type": "code",
   "execution_count": null,
   "id": "a4e019c6",
   "metadata": {},
   "outputs": [],
   "source": [
    "audio_length = start_time\n",
    "audio_output_filename = os.path.join(dir_out, output_filename) + '_mozz_pred'\n",
    "\n",
    "if mozz_audio_list:\n",
    "    sf.write(f'{audio_output_filename}.wav', np.hstack(mozz_audio_list), sr)\n"
   ]
  },
  {
   "cell_type": "code",
   "execution_count": 51,
   "id": "b0d17cda",
   "metadata": {},
   "outputs": [
    {
     "data": {
      "text/plain": [
       "array([[ 0.0000000e+00,  0.0000000e+00,  0.0000000e+00, ...,\n",
       "         1.1789799e-04,  1.5181303e-04, -9.7513199e-05]], dtype=float32)"
      ]
     },
     "execution_count": 51,
     "metadata": {},
     "output_type": "execute_result"
    }
   ],
   "source": [
    "np.hstack(mozz_audio_list)"
   ]
  },
  {
   "cell_type": "code",
   "execution_count": 54,
   "id": "63ba40de",
   "metadata": {},
   "outputs": [
    {
     "data": {
      "text/plain": [
       "tensor([[ 0.0000e+00,  0.0000e+00,  0.0000e+00,  ...,  1.1790e-04,\n",
       "          1.5181e-04, -9.7513e-05]])"
      ]
     },
     "execution_count": 54,
     "metadata": {},
     "output_type": "execute_result"
    }
   ],
   "source": [
    "mozz_audio_list[0]"
   ]
  },
  {
   "cell_type": "code",
   "execution_count": 45,
   "id": "02caadc1",
   "metadata": {},
   "outputs": [
    {
     "name": "stdout",
     "output_type": "stream",
     "text": [
      "[0.         0.5        0.75       0.99996948 0.99996948]\n"
     ]
    }
   ],
   "source": [
    "x = np.array([0,0.5,0.75, 1, 2]) # x.dtype is 'float64'\n",
    "sf.write(\"x.wav\", x, 1) # a wav at sampling rate 1 Hz\n",
    "\n",
    "y, fs = sf.read(\"x.wav\")\n",
    "\n",
    "print(y)"
   ]
  },
  {
   "cell_type": "code",
   "execution_count": null,
   "id": "3c99fdf8",
   "metadata": {},
   "outputs": [],
   "source": []
  }
 ],
 "metadata": {
  "kernelspec": {
   "display_name": "Python 3 (ipykernel)",
   "language": "python",
   "name": "python3"
  },
  "language_info": {
   "codemirror_mode": {
    "name": "ipython",
    "version": 3
   },
   "file_extension": ".py",
   "mimetype": "text/x-python",
   "name": "python",
   "nbconvert_exporter": "python",
   "pygments_lexer": "ipython3",
   "version": "3.8.10"
  }
 },
 "nbformat": 4,
 "nbformat_minor": 5
}
